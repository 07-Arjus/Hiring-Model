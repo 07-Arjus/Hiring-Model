{
 "cells": [
  {
   "cell_type": "code",
   "execution_count": 2,
   "id": "fb8c52c3-75c1-4f00-a168-73ab6fa95576",
   "metadata": {},
   "outputs": [
    {
     "name": "stdout",
     "output_type": "stream",
     "text": [
      "  experience  test_score(out of 10)  interview_score(out of 10)  salary($)\n",
      "0        NaN                    8.0                           9      50000\n",
      "1        NaN                    8.0                           6      45000\n",
      "2       five                    6.0                           7      60000\n",
      "3        two                   10.0                          10      65000\n",
      "4      seven                    9.0                           6      70000\n",
      "5      three                    7.0                          10      62000\n",
      "6        ten                    NaN                           7      72000\n",
      "7     eleven                    7.0                           8      80000\n"
     ]
    }
   ],
   "source": [
    "import pandas as pd\n",
    "import warnings\n",
    "warnings.filterwarnings(\"ignore\")\n",
    "df=pd.read_csv(\"hiring.csv\")\n",
    "print(df.to_string())"
   ]
  },
  {
   "cell_type": "code",
   "execution_count": 3,
   "id": "7b6510d8-89cb-42f6-a444-c4be29323038",
   "metadata": {},
   "outputs": [
    {
     "name": "stdout",
     "output_type": "stream",
     "text": [
      "  experience  test_score(out of 10)  interview_score(out of 10)  salary($)\n",
      "0       zero               8.000000                           9      50000\n",
      "1       zero               8.000000                           6      45000\n",
      "2       five               6.000000                           7      60000\n",
      "3        two              10.000000                          10      65000\n",
      "4      seven               9.000000                           6      70000\n",
      "5      three               7.000000                          10      62000\n",
      "6        ten               7.857143                           7      72000\n",
      "7     eleven               7.000000                           8      80000\n"
     ]
    }
   ],
   "source": [
    "df['experience'].fillna('zero',inplace=True)\n",
    "df['test_score(out of 10)'].fillna(df['test_score(out of 10)'].mean(),inplace=True)\n",
    "print(df)"
   ]
  },
  {
   "cell_type": "code",
   "execution_count": 4,
   "id": "9dace234-b9e5-4951-bd34-d04ebfd27f40",
   "metadata": {},
   "outputs": [
    {
     "ename": "ModuleNotFoundError",
     "evalue": "No module named 'word2number'",
     "output_type": "error",
     "traceback": [
      "\u001b[1;31m---------------------------------------------------------------------------\u001b[0m",
      "\u001b[1;31mModuleNotFoundError\u001b[0m                       Traceback (most recent call last)",
      "Cell \u001b[1;32mIn[4], line 1\u001b[0m\n\u001b[1;32m----> 1\u001b[0m \u001b[38;5;28;01mfrom\u001b[39;00m \u001b[38;5;21;01mword2number\u001b[39;00m \u001b[38;5;28;01mimport\u001b[39;00m w2n\n\u001b[0;32m      2\u001b[0m df[\u001b[38;5;124m\"\u001b[39m\u001b[38;5;124mexperience\u001b[39m\u001b[38;5;124m\"\u001b[39m]\u001b[38;5;241m=\u001b[39mdf[\u001b[38;5;124m\"\u001b[39m\u001b[38;5;124mexperience\u001b[39m\u001b[38;5;124m\"\u001b[39m]\u001b[38;5;241m.\u001b[39mapply(w2n\u001b[38;5;241m.\u001b[39mword_to_num)\n\u001b[0;32m      3\u001b[0m df\n",
      "\u001b[1;31mModuleNotFoundError\u001b[0m: No module named 'word2number'"
     ]
    }
   ],
   "source": [
    "from word2number import w2n\n",
    "df[\"experience\"]=df[\"experience\"].apply(w2n.word_to_num)\n",
    "df"
   ]
  },
  {
   "cell_type": "code",
   "execution_count": null,
   "id": "22821ed8-c656-465a-90f4-964629cdc533",
   "metadata": {},
   "outputs": [],
   "source": [
    "newdf=df.drop(columns=['salary($)'])\n",
    "print(newdf.to_string())"
   ]
  },
  {
   "cell_type": "code",
   "execution_count": 5,
   "id": "77785d21-8bf9-41ce-8af3-7838497802cc",
   "metadata": {},
   "outputs": [
    {
     "ename": "NameError",
     "evalue": "name 'newdf' is not defined",
     "output_type": "error",
     "traceback": [
      "\u001b[1;31m---------------------------------------------------------------------------\u001b[0m",
      "\u001b[1;31mNameError\u001b[0m                                 Traceback (most recent call last)",
      "Cell \u001b[1;32mIn[5], line 2\u001b[0m\n\u001b[0;32m      1\u001b[0m \u001b[38;5;28;01mfrom\u001b[39;00m \u001b[38;5;21;01msklearn\u001b[39;00m\u001b[38;5;21;01m.\u001b[39;00m\u001b[38;5;21;01mlinear_model\u001b[39;00m \u001b[38;5;28;01mimport\u001b[39;00m LinearRegression\n\u001b[1;32m----> 2\u001b[0m X\u001b[38;5;241m=\u001b[39m\u001b[43mnewdf\u001b[49m\n\u001b[0;32m      3\u001b[0m Y\u001b[38;5;241m=\u001b[39mdf[\u001b[38;5;124m'\u001b[39m\u001b[38;5;124msalary($)\u001b[39m\u001b[38;5;124m'\u001b[39m]\n\u001b[0;32m      4\u001b[0m model\u001b[38;5;241m=\u001b[39mLinearRegression()\n",
      "\u001b[1;31mNameError\u001b[0m: name 'newdf' is not defined"
     ]
    }
   ],
   "source": [
    "from sklearn.linear_model import LinearRegression\n",
    "X=newdf\n",
    "Y=df['salary($)']\n",
    "model=LinearRegression()\n",
    "model.fit(X,Y)"
   ]
  },
  {
   "cell_type": "code",
   "execution_count": 49,
   "id": "8ce5e514-9ff8-4553-bee0-b9bef04cb4dd",
   "metadata": {},
   "outputs": [
    {
     "name": "stdout",
     "output_type": "stream",
     "text": [
      "Enter your experience:  2\n",
      "Enter your experience:  7\n",
      "Enter your interview score :  10\n"
     ]
    },
    {
     "name": "stdout",
     "output_type": "stream",
     "text": [
      "[57415.23678792]\n"
     ]
    }
   ],
   "source": [
    "from sklearn.model_selection import train_test_split\n",
    "X_train,X_test,Y_train,Y_test=train_test_split(X,Y,test_size=0.33)\n",
    "finalmodel=LinearRegression()\n",
    "finalmodel.fit(X_train,Y_train)\n",
    "exp = int(input('Enter your experience: '))\n",
    "test = float(input('Enter your experience: '))\n",
    "interview = int(input('Enter your interview score : '))\n",
    "ans=finalmodel.predict([[exp,test,interview]])\n",
    "print(ans)"
   ]
  },
  {
   "cell_type": "code",
   "execution_count": null,
   "id": "2ecd8eee-c1da-40c2-81cf-2b317eb1ac26",
   "metadata": {},
   "outputs": [],
   "source": []
  }
 ],
 "metadata": {
  "kernelspec": {
   "display_name": "Python 3 (ipykernel)",
   "language": "python",
   "name": "python3"
  },
  "language_info": {
   "codemirror_mode": {
    "name": "ipython",
    "version": 3
   },
   "file_extension": ".py",
   "mimetype": "text/x-python",
   "name": "python",
   "nbconvert_exporter": "python",
   "pygments_lexer": "ipython3",
   "version": "3.12.1"
  }
 },
 "nbformat": 4,
 "nbformat_minor": 5
}
